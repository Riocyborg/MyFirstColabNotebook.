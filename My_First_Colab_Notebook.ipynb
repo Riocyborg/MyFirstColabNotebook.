{
  "nbformat": 4,
  "nbformat_minor": 0,
  "metadata": {
    "colab": {
      "name": "My First Colab Notebook.ipynb",
      "provenance": [],
      "authorship_tag": "ABX9TyPNbyNVOFsty5pYS9d1leBb",
      "include_colab_link": true
    },
    "kernelspec": {
      "name": "python3",
      "display_name": "Python 3"
    }
  },
  "cells": [
    {
      "cell_type": "markdown",
      "metadata": {
        "id": "view-in-github",
        "colab_type": "text"
      },
      "source": [
        "<a href=\"https://colab.research.google.com/github/khalil-cmd/MyFirstColabNotebook./blob/master/My_First_Colab_Notebook.ipynb\" target=\"_parent\"><img src=\"https://colab.research.google.com/assets/colab-badge.svg\" alt=\"Open In Colab\"/></a>"
      ]
    },
    {
      "cell_type": "markdown",
      "metadata": {
        "id": "9xvGT09x9KyV",
        "colab_type": "text"
      },
      "source": [
        "This is RioCyborg. \n",
        "Tours of Duty towards becoming a Data Scientist."
      ]
    },
    {
      "cell_type": "code",
      "metadata": {
        "id": "bzLblNWLmvCr",
        "colab_type": "code",
        "colab": {
          "base_uri": "https://localhost:8080/",
          "height": 51
        },
        "outputId": "861adf8c-eb7b-49c9-84f6-e53b104b0e54"
      },
      "source": [
        "import time\n",
        "print(time.ctime())\n",
        "import time \n",
        "print (time.ctime())"
      ],
      "execution_count": 2,
      "outputs": [
        {
          "output_type": "stream",
          "text": [
            "Mon Jul 13 16:12:22 2020\n",
            "Mon Jul 13 16:12:22 2020\n"
          ],
          "name": "stdout"
        }
      ]
    },
    {
      "cell_type": "code",
      "metadata": {
        "id": "c3tYiO1-pbA_",
        "colab_type": "code",
        "colab": {
          "base_uri": "https://localhost:8080/",
          "height": 51
        },
        "outputId": "84a13f5d-bb58-4c31-92ff-0d696ab41be6"
      },
      "source": [
        "time.sleep(5)\n",
        "print(time.ctime())\n",
        "time.sleep(3)\n",
        "print(time.ctime())"
      ],
      "execution_count": 3,
      "outputs": [
        {
          "output_type": "stream",
          "text": [
            "Mon Jul 13 16:12:27 2020\n",
            "Mon Jul 13 16:12:30 2020\n"
          ],
          "name": "stdout"
        }
      ]
    },
    {
      "cell_type": "code",
      "metadata": {
        "id": "Ne5Cy0yd9JPP",
        "colab_type": "code",
        "colab": {}
      },
      "source": [
        ""
      ],
      "execution_count": null,
      "outputs": []
    }
  ]
}